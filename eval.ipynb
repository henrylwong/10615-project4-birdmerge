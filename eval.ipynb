{
 "cells": [
  {
   "cell_type": "code",
   "execution_count": 2,
   "metadata": {},
   "outputs": [],
   "source": [
    "from model import *\n",
    "import options\n",
    "import torch\n",
    "from torchvision.utils import make_grid\n",
    "import matplotlib.pyplot as plt\n",
    "from dataloader import *\n",
    "\n",
    "DEVICE = torch.device(\"cuda\")"
   ]
  },
  {
   "cell_type": "code",
   "execution_count": 82,
   "metadata": {},
   "outputs": [
    {
     "data": {
      "text/plain": [
       "AttriVAE(\n",
       "  (encoder): Sequential(\n",
       "    (0): Conv2d(3, 8, kernel_size=(3, 3), stride=(2, 2), padding=(1, 1))\n",
       "    (1): BatchNorm2d(8, eps=1e-05, momentum=0.1, affine=True, track_running_stats=True)\n",
       "    (2): LeakyReLU(negative_slope=0.01)\n",
       "    (3): Conv2d(8, 16, kernel_size=(3, 3), stride=(2, 2), padding=(1, 1))\n",
       "    (4): BatchNorm2d(16, eps=1e-05, momentum=0.1, affine=True, track_running_stats=True)\n",
       "    (5): LeakyReLU(negative_slope=0.01)\n",
       "    (6): Conv2d(16, 32, kernel_size=(3, 3), stride=(2, 2), padding=(1, 1))\n",
       "    (7): BatchNorm2d(32, eps=1e-05, momentum=0.1, affine=True, track_running_stats=True)\n",
       "    (8): LeakyReLU(negative_slope=0.01)\n",
       "    (9): Conv2d(32, 64, kernel_size=(3, 3), stride=(2, 2), padding=(1, 1))\n",
       "    (10): BatchNorm2d(64, eps=1e-05, momentum=0.1, affine=True, track_running_stats=True)\n",
       "    (11): LeakyReLU(negative_slope=0.01)\n",
       "    (12): Conv2d(64, 4, kernel_size=(3, 3), stride=(1, 1), padding=(1, 1))\n",
       "    (13): BatchNorm2d(4, eps=1e-05, momentum=0.1, affine=True, track_running_stats=True)\n",
       "    (14): LeakyReLU(negative_slope=0.01)\n",
       "  )\n",
       "  (fc_encoder): Sequential(\n",
       "    (0): Flatten(start_dim=1, end_dim=-1)\n",
       "    (1): Linear(in_features=256, out_features=100, bias=True)\n",
       "  )\n",
       "  (mean): Linear(in_features=100, out_features=32, bias=True)\n",
       "  (logvar): Linear(in_features=100, out_features=32, bias=True)\n",
       "  (fc_decoder): Sequential(\n",
       "    (0): Linear(in_features=32, out_features=100, bias=True)\n",
       "    (1): Linear(in_features=100, out_features=256, bias=True)\n",
       "  )\n",
       "  (decoder): Sequential(\n",
       "    (0): Conv2d(4, 64, kernel_size=(3, 3), stride=(1, 1), padding=(1, 1))\n",
       "    (1): BatchNorm2d(64, eps=1e-05, momentum=0.1, affine=True, track_running_stats=True)\n",
       "    (2): LeakyReLU(negative_slope=0.01)\n",
       "    (3): ConvTranspose2d(64, 64, kernel_size=(3, 3), stride=(2, 2), padding=(1, 1), output_padding=(1, 1))\n",
       "    (4): BatchNorm2d(64, eps=1e-05, momentum=0.1, affine=True, track_running_stats=True)\n",
       "    (5): LeakyReLU(negative_slope=0.01)\n",
       "    (6): ConvTranspose2d(64, 32, kernel_size=(3, 3), stride=(2, 2), padding=(1, 1), output_padding=(1, 1))\n",
       "    (7): BatchNorm2d(32, eps=1e-05, momentum=0.1, affine=True, track_running_stats=True)\n",
       "    (8): LeakyReLU(negative_slope=0.01)\n",
       "    (9): ConvTranspose2d(32, 16, kernel_size=(3, 3), stride=(2, 2), padding=(1, 1), output_padding=(1, 1))\n",
       "    (10): BatchNorm2d(16, eps=1e-05, momentum=0.1, affine=True, track_running_stats=True)\n",
       "    (11): LeakyReLU(negative_slope=0.01)\n",
       "    (12): ConvTranspose2d(16, 8, kernel_size=(3, 3), stride=(2, 2), padding=(1, 1), output_padding=(1, 1))\n",
       "    (13): BatchNorm2d(8, eps=1e-05, momentum=0.1, affine=True, track_running_stats=True)\n",
       "    (14): LeakyReLU(negative_slope=0.01)\n",
       "    (15): Conv2d(8, 4, kernel_size=(3, 3), stride=(1, 1), padding=(1, 1))\n",
       "    (16): BatchNorm2d(4, eps=1e-05, momentum=0.1, affine=True, track_running_stats=True)\n",
       "    (17): LeakyReLU(negative_slope=0.01)\n",
       "    (18): Conv2d(4, 3, kernel_size=(3, 3), stride=(1, 1), padding=(1, 1))\n",
       "    (19): BatchNorm2d(3, eps=1e-05, momentum=0.1, affine=True, track_running_stats=True)\n",
       "    (20): LeakyReLU(negative_slope=0.01)\n",
       "    (21): Sigmoid()\n",
       "  )\n",
       "  (mlp): Sequential(\n",
       "    (0): Linear(in_features=32, out_features=16, bias=True)\n",
       "    (1): BatchNorm1d(16, eps=1e-05, momentum=0.1, affine=True, track_running_stats=True)\n",
       "    (2): LeakyReLU(negative_slope=0.01)\n",
       "    (3): Linear(in_features=16, out_features=8, bias=True)\n",
       "    (4): BatchNorm1d(8, eps=1e-05, momentum=0.1, affine=True, track_running_stats=True)\n",
       "    (5): LeakyReLU(negative_slope=0.01)\n",
       "    (6): Linear(in_features=8, out_features=1, bias=True)\n",
       "    (7): Sigmoid()\n",
       "  )\n",
       ")"
      ]
     },
     "execution_count": 82,
     "metadata": {},
     "output_type": "execute_result"
    }
   ],
   "source": [
    "model = AttriVAE(image_channels=3, hidden_dim=100, latent_dim=32, encoder_channels=(8, 16, 32, 64, 4), decoder_channels=(64, 32, 16, 8, 4, 4)).to(DEVICE)\n",
    "cp = torch.load(\"saves_old/[2024-04-21 03:33:57]-STATE-AttriVAE-e200.pt\")\n",
    "model.load_state_dict(cp)\n",
    "model.eval()"
   ]
  },
  {
   "cell_type": "code",
   "execution_count": 84,
   "metadata": {},
   "outputs": [
    {
     "data": {
      "text/plain": [
       "MoreAttriVAE(\n",
       "  (encoder): Sequential(\n",
       "    (0): Conv2d(3, 64, kernel_size=(3, 3), stride=(2, 2), padding=(1, 1))\n",
       "    (1): BatchNorm2d(64, eps=1e-05, momentum=0.1, affine=True, track_running_stats=True)\n",
       "    (2): LeakyReLU(negative_slope=0.01)\n",
       "    (3): Conv2d(64, 128, kernel_size=(3, 3), stride=(2, 2), padding=(1, 1))\n",
       "    (4): BatchNorm2d(128, eps=1e-05, momentum=0.1, affine=True, track_running_stats=True)\n",
       "    (5): LeakyReLU(negative_slope=0.01)\n",
       "    (6): Conv2d(128, 128, kernel_size=(3, 3), stride=(1, 1), padding=(1, 1))\n",
       "    (7): BatchNorm2d(128, eps=1e-05, momentum=0.1, affine=True, track_running_stats=True)\n",
       "    (8): LeakyReLU(negative_slope=0.01)\n",
       "    (9): Conv2d(128, 256, kernel_size=(3, 3), stride=(2, 2), padding=(1, 1))\n",
       "    (10): BatchNorm2d(256, eps=1e-05, momentum=0.1, affine=True, track_running_stats=True)\n",
       "    (11): LeakyReLU(negative_slope=0.01)\n",
       "    (12): Conv2d(256, 512, kernel_size=(3, 3), stride=(2, 2), padding=(1, 1))\n",
       "    (13): BatchNorm2d(512, eps=1e-05, momentum=0.1, affine=True, track_running_stats=True)\n",
       "    (14): LeakyReLU(negative_slope=0.01)\n",
       "    (15): Conv2d(512, 128, kernel_size=(3, 3), stride=(1, 1), padding=(1, 1))\n",
       "    (16): BatchNorm2d(128, eps=1e-05, momentum=0.1, affine=True, track_running_stats=True)\n",
       "    (17): LeakyReLU(negative_slope=0.01)\n",
       "    (18): Conv2d(128, 32, kernel_size=(3, 3), stride=(1, 1), padding=(1, 1))\n",
       "    (19): BatchNorm2d(32, eps=1e-05, momentum=0.1, affine=True, track_running_stats=True)\n",
       "    (20): LeakyReLU(negative_slope=0.01)\n",
       "  )\n",
       "  (fc_encoder): Sequential(\n",
       "    (0): Flatten(start_dim=1, end_dim=-1)\n",
       "    (1): Linear(in_features=2048, out_features=1024, bias=True)\n",
       "    (2): Linear(in_features=1024, out_features=100, bias=True)\n",
       "  )\n",
       "  (mean): Linear(in_features=100, out_features=128, bias=True)\n",
       "  (logvar): Linear(in_features=100, out_features=128, bias=True)\n",
       "  (fc_decoder): Sequential(\n",
       "    (0): Linear(in_features=128, out_features=100, bias=True)\n",
       "    (1): Linear(in_features=100, out_features=2048, bias=True)\n",
       "  )\n",
       "  (decoder): Sequential(\n",
       "    (0): Conv2d(32, 512, kernel_size=(3, 3), stride=(1, 1), padding=(1, 1))\n",
       "    (1): BatchNorm2d(512, eps=1e-05, momentum=0.1, affine=True, track_running_stats=True)\n",
       "    (2): LeakyReLU(negative_slope=0.01)\n",
       "    (3): ConvTranspose2d(512, 256, kernel_size=(3, 3), stride=(2, 2), padding=(1, 1), output_padding=(1, 1))\n",
       "    (4): BatchNorm2d(256, eps=1e-05, momentum=0.1, affine=True, track_running_stats=True)\n",
       "    (5): LeakyReLU(negative_slope=0.01)\n",
       "    (6): ConvTranspose2d(256, 128, kernel_size=(3, 3), stride=(2, 2), padding=(1, 1), output_padding=(1, 1))\n",
       "    (7): BatchNorm2d(128, eps=1e-05, momentum=0.1, affine=True, track_running_stats=True)\n",
       "    (8): LeakyReLU(negative_slope=0.01)\n",
       "    (9): Conv2d(128, 128, kernel_size=(3, 3), stride=(1, 1), padding=(1, 1))\n",
       "    (10): BatchNorm2d(128, eps=1e-05, momentum=0.1, affine=True, track_running_stats=True)\n",
       "    (11): LeakyReLU(negative_slope=0.01)\n",
       "    (12): ConvTranspose2d(128, 64, kernel_size=(3, 3), stride=(2, 2), padding=(1, 1), output_padding=(1, 1))\n",
       "    (13): BatchNorm2d(64, eps=1e-05, momentum=0.1, affine=True, track_running_stats=True)\n",
       "    (14): LeakyReLU(negative_slope=0.01)\n",
       "    (15): Conv2d(64, 64, kernel_size=(3, 3), stride=(1, 1), padding=(1, 1))\n",
       "    (16): BatchNorm2d(64, eps=1e-05, momentum=0.1, affine=True, track_running_stats=True)\n",
       "    (17): LeakyReLU(negative_slope=0.01)\n",
       "    (18): ConvTranspose2d(64, 32, kernel_size=(3, 3), stride=(2, 2), padding=(1, 1), output_padding=(1, 1))\n",
       "    (19): BatchNorm2d(32, eps=1e-05, momentum=0.1, affine=True, track_running_stats=True)\n",
       "    (20): LeakyReLU(negative_slope=0.01)\n",
       "    (21): Conv2d(32, 3, kernel_size=(3, 3), stride=(1, 1), padding=(1, 1))\n",
       "    (22): BatchNorm2d(3, eps=1e-05, momentum=0.1, affine=True, track_running_stats=True)\n",
       "    (23): LeakyReLU(negative_slope=0.01)\n",
       "    (24): Sigmoid()\n",
       "  )\n",
       "  (mlp): Sequential(\n",
       "    (0): Linear(in_features=128, out_features=64, bias=True)\n",
       "    (1): BatchNorm1d(64, eps=1e-05, momentum=0.1, affine=True, track_running_stats=True)\n",
       "    (2): LeakyReLU(negative_slope=0.01)\n",
       "    (3): Linear(in_features=64, out_features=32, bias=True)\n",
       "    (4): BatchNorm1d(32, eps=1e-05, momentum=0.1, affine=True, track_running_stats=True)\n",
       "    (5): LeakyReLU(negative_slope=0.01)\n",
       "    (6): Linear(in_features=32, out_features=1, bias=True)\n",
       "    (7): Sigmoid()\n",
       "  )\n",
       ")"
      ]
     },
     "execution_count": 84,
     "metadata": {},
     "output_type": "execute_result"
    }
   ],
   "source": [
    "model = MoreAttriVAE(image_channels=options.IMG_CHANNELS, hidden_dim=options.HIDDEN_DIM, latent_dim=options.LATENT_DIM, encoder_channels=options.ENCODER_CHANNELS, decoder_channels=options.DECODER_CHANNELS).to(DEVICE)\n",
    "cp = torch.load(\"saves/[2024-04-21 23:53:24]-STATE-MoreAttriVAE-e200.pt\")\n",
    "model.load_state_dict(cp['model_state'])\n",
    "model.eval()"
   ]
  },
  {
   "cell_type": "code",
   "execution_count": 11,
   "metadata": {},
   "outputs": [],
   "source": [
    "import os\n",
    "\n",
    "\n",
    "def show_image(img):\n",
    "    \"\"\"\n",
    "    Function that displays an input tensor, which may contain multiple images,\n",
    "    using pyplot.\n",
    "\n",
    "    Args:\n",
    "        img (Tensor): Input tensor which contains a grid of images, e.g. as\n",
    "                      output by torch.utils.make_grid\n",
    "\n",
    "    \"\"\"\n",
    "    plt.imshow(img.cpu().numpy().transpose(1,2,0))\n",
    "    plt.axis('off')\n",
    "    \n",
    "def visualise_output(images, model):\n",
    "    \"\"\"\n",
    "    Function that takes an input Tensor of images, passes the first 50 through\n",
    "    a trained input VAE model (encoder and decoder) and then displays the\n",
    "    reconstructed images in a 5x10 grid.\n",
    "\n",
    "    Args:\n",
    "        images (Tensor): Input tensor of images\n",
    "        model (Torch model): trained VAE model\n",
    "\n",
    "    # \"\"\"\n",
    "\n",
    "    images_50 = images[:50]\n",
    "\n",
    "    with torch.no_grad():\n",
    "      x_recon, mu, logvar, z_tilde, z_dist, prior_dist = model.forward(images_50)\n",
    "\n",
    "      # displaying images\n",
    "      images_to_display = make_grid(x_recon.view(16, 3, 128, 128), nrow = 8)\n",
    "      show_image(images_to_display)"
   ]
  },
  {
   "cell_type": "code",
   "execution_count": 8,
   "metadata": {},
   "outputs": [],
   "source": [
    "import pickle\n",
    "with open(options.FEATURES_DF_PKL_FILEPATH, 'rb') as file:\n",
    "    features_df = pickle.load(file)\n",
    "train_loader = get_dataloader(options.IMG_PROCESSED_DIRPATH, options.IMGLIST_PROCESSED_FILEPATH, features_df)"
   ]
  },
  {
   "cell_type": "code",
   "execution_count": 80,
   "metadata": {},
   "outputs": [],
   "source": [
    "images, labels = next(iter(train_loader))\n",
    "images = images.to(DEVICE)"
   ]
  },
  {
   "cell_type": "code",
   "execution_count": 85,
   "metadata": {},
   "outputs": [
    {
     "data": {
      "image/png": "[encoded data removed]",
      "text/plain": [
       "<Figure size 640x480 with 1 Axes>"
      ]
     },
     "metadata": {},
     "output_type": "display_data"
    }
   ],
   "source": [
    "visualise_output(images, model)"
   ]
  },
  {
   "cell_type": "markdown",
   "metadata": {},
   "source": [
    "### Bird Hybrid"
   ]
  },
  {
   "cell_type": "code",
   "execution_count": 35,
   "metadata": {},
   "outputs": [],
   "source": [
    "uniquebirds = []\n",
    "with open('images-processed.txt', 'r') as file:\n",
    "    # Read each line in the file\n",
    "    for line in file:\n",
    "        line = line.strip()\n",
    "        lines = line.split(\"/\")[0]\n",
    "        bird = lines.split(\".\")[1]\n",
    "        if bird not in uniquebirds:\n",
    "            uniquebirds.append(bird)\n",
    "\n",
    "for bird in range(len(uniquebirds)):\n",
    "    uniquebirds[bird] = uniquebirds[bird].replace('_', ' ')"
   ]
  },
  {
   "cell_type": "code",
   "execution_count": 37,
   "metadata": {},
   "outputs": [],
   "source": [
    "import torch\n",
    "import torch.nn as nn\n",
    "import torch.optim as optim\n",
    "from torch.optim.lr_scheduler import LambdaLR\n",
    "import pickle\n",
    "import os\n",
    "import sys\n",
    "import wandb\n",
    "import argparse\n",
    "# from torchsummary import summary\n",
    "\n",
    "from loss import *\n",
    "from model import *\n",
    "from dataloader import *\n",
    "from utils import *\n",
    "import options\n",
    "\n",
    "with open(options.FEATURES_DF_PKL_FILEPATH, 'rb') as file:\n",
    "    features_df = pickle.load(file)"
   ]
  },
  {
   "cell_type": "code",
   "execution_count": 49,
   "metadata": {},
   "outputs": [
    {
     "name": "stdout",
     "output_type": "stream",
     "text": [
      "has_bill_shape          0.888889\n",
      "has_wing_color          0.933333\n",
      "has_upperparts_color    0.933333\n",
      "has_underparts_color    0.933333\n",
      "has_breast_pattern      0.250000\n",
      "has_back_color          0.933333\n",
      "has_tail_shape          0.666667\n",
      "has_upper_tail_color    0.933333\n",
      "has_head_pattern        0.818182\n",
      "has_breast_color        0.933333\n",
      "has_throat_color        0.933333\n",
      "has_eye_color           0.000000\n",
      "has_bill_length         1.000000\n",
      "has_forehead_color      0.933333\n",
      "has_under_tail_color    0.933333\n",
      "has_nape_color          0.933333\n",
      "has_belly_color         0.933333\n",
      "has_wing_shape          0.000000\n",
      "has_size                1.000000\n",
      "has_shape               1.000000\n",
      "has_back_pattern        0.250000\n",
      "has_tail_pattern        0.250000\n",
      "has_belly_pattern       0.250000\n",
      "has_primary_color       0.933333\n",
      "has_leg_color           0.400000\n",
      "has_bill_color          0.933333\n",
      "has_crown_color         0.933333\n",
      "has_wing_pattern        1.000000\n",
      "Name: 639, dtype: float64\n"
     ]
    }
   ],
   "source": [
    "print(features_df.iloc[639])"
   ]
  },
  {
   "cell_type": "code",
   "execution_count": 74,
   "metadata": {},
   "outputs": [],
   "source": [
    "def translate(row):\n",
    "    bird_string = \"I am going to describe a new bird with the different features it has.\"\n",
    "    with open(\"featuremap.pkl\", 'rb') as file:\n",
    "        featuremap = pickle.load(file)\n",
    "    \n",
    "    for column_name, cell_value in row.items():\n",
    "        if cell_value != 0:\n",
    "            attr = featuremap[(featuremap['Attribute'] == column_name) & (featuremap['Attribute Value'] == cell_value)]\n",
    "            attr = attr['Val'].iloc[0]\n",
    "    \n",
    "            attribute = column_name.replace(\"_\", \" \")\n",
    "            identifier = attribute.split(\" \")[1:]\n",
    "            \n",
    "            identifier = ' '.join(identifier)\n",
    "            sentence = f\" This bird has a {identifier} of: {attr}\"  \n",
    "            bird_string += sentence\n",
    "    return bird_string"
   ]
  },
  {
   "cell_type": "code",
   "execution_count": 86,
   "metadata": {},
   "outputs": [
    {
     "data": {
      "text/plain": [
       "'I am going to describe a new bird with the different features it has. This bird has a bill shape of: cone This bird has a wing color of: red This bird has a upperparts color of: red This bird has a underparts color of: red This bird has a breast pattern of: solid This bird has a back color of: red This bird has a tail shape of: fan-shaped_tail This bird has a upper tail color of: red This bird has a head pattern of: eyeline This bird has a breast color of: red This bird has a throat color of: red This bird has a bill length of: shorter_than_head This bird has a forehead color of: red This bird has a under tail color of: red This bird has a nape color of: red This bird has a belly color of: red This bird has a size of: very_small_(3_-_5_in) This bird has a shape of: perching-like This bird has a back pattern of: solid This bird has a tail pattern of: solid This bird has a belly pattern of: solid This bird has a primary color of: red This bird has a leg color of: grey This bird has a bill color of: red This bird has a crown color of: red This bird has a wing pattern of: multi-colored'"
      ]
     },
     "execution_count": 86,
     "metadata": {},
     "output_type": "execute_result"
    }
   ],
   "source": [
    "translate(features_df.iloc[639])"
   ]
  },
  {
   "cell_type": "code",
   "execution_count": 77,
   "metadata": {},
   "outputs": [
    {
     "name": "stdout",
     "output_type": "stream",
     "text": [
      "I will give you 3 birds and features they have and I want you to tell me which two are most likely to survive in a desert.\n",
      "\n",
      "I am going to describe a new bird with the different features it has. This bird has a wing color of: grey This bird has a upperparts color of: grey This bird has a underparts color of: white This bird has a back color of: grey This bird has a tail shape of: notched_tail This bird has a upper tail color of: grey This bird has a head pattern of: striped This bird has a breast color of: white This bird has a throat color of: red This bird has a eye color of: black This bird has a bill length of: shorter_than_head This bird has a forehead color of: red This bird has a under tail color of: grey This bird has a nape color of: grey This bird has a belly color of: white This bird has a wing shape of: rounded-wings This bird has a size of: small_(5_-_9_in) This bird has a shape of: perching-like This bird has a primary color of: grey This bird has a leg color of: brown This bird has a bill color of: red This bird has a crown color of: grey\n",
      "\n",
      "I am going to describe a new bird with the different features it has. This bird has a bill shape of: cone This bird has a underparts color of: buff This bird has a breast pattern of: multi-colored This bird has a head pattern of: plain This bird has a breast color of: white This bird has a throat color of: blue This bird has a eye color of: black This bird has a bill length of: shorter_than_head This bird has a forehead color of: blue This bird has a nape color of: blue This bird has a belly color of: white This bird has a wing shape of: rounded-wings This bird has a size of: small_(5_-_9_in) This bird has a shape of: perching-like This bird has a belly pattern of: multi-colored This bird has a primary color of: buff This bird has a leg color of: black This bird has a bill color of: grey This bird has a crown color of: blue\n",
      "\n",
      "I am going to describe a new bird with the different features it has. This bird has a bill shape of: cone This bird has a wing color of: red This bird has a upperparts color of: red This bird has a underparts color of: red This bird has a breast pattern of: solid This bird has a back color of: red This bird has a tail shape of: fan-shaped_tail This bird has a upper tail color of: red This bird has a head pattern of: eyeline This bird has a breast color of: red This bird has a throat color of: red This bird has a bill length of: shorter_than_head This bird has a forehead color of: red This bird has a under tail color of: red This bird has a nape color of: red This bird has a belly color of: red This bird has a size of: very_small_(3_-_5_in) This bird has a shape of: perching-like This bird has a back pattern of: solid This bird has a tail pattern of: solid This bird has a belly pattern of: solid This bird has a primary color of: red This bird has a leg color of: grey This bird has a bill color of: red This bird has a crown color of: red This bird has a wing pattern of: multi-colored\n",
      "\n"
     ]
    }
   ],
   "source": [
    "import random\n",
    "env = {0: \"desert\", 1: \"tundra\", 2: \"rainforest\"}\n",
    "random_number = random.randint(0, 2)\n",
    "\n",
    "birdies = [0, 527, 639]\n",
    "\n",
    "print(f\"I will give you {len(birdies)} birds and features they have and I want you to tell me which two are most likely to survive in a {env[random_number]}.\\n\")\n",
    "for b in birdies:\n",
    "    print(f\"{translate(features_df.iloc[b])}\\n\")"
   ]
  }
 ],
 "metadata": {
  "kernelspec": {
   "display_name": "pytorch",
   "language": "python",
   "name": "python3"
  },
  "language_info": {
   "codemirror_mode": {
    "name": "ipython",
    "version": 3
   },
   "file_extension": ".py",
   "mimetype": "text/x-python",
   "name": "python",
   "nbconvert_exporter": "python",
   "pygments_lexer": "ipython3",
   "version": "3.10.12"
  }
 },
 "nbformat": 4,
 "nbformat_minor": 2
}
